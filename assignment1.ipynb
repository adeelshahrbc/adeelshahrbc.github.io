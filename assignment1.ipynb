{
  "nbformat": 4,
  "nbformat_minor": 0,
  "metadata": {
    "kernelspec": {
      "display_name": "Python 3",
      "language": "python",
      "name": "python3"
    },
    "language_info": {
      "codemirror_mode": {
        "name": "ipython",
        "version": 3
      },
      "file_extension": ".py",
      "mimetype": "text/x-python",
      "name": "python",
      "nbconvert_exporter": "python",
      "pygments_lexer": "ipython3",
      "version": "3.6.6"
    },
    "toc": {
      "base_numbering": 1,
      "nav_menu": {},
      "number_sections": false,
      "sideBar": true,
      "skip_h1_title": false,
      "title_cell": "Table of Contents",
      "title_sidebar": "Contents",
      "toc_cell": false,
      "toc_position": {},
      "toc_section_display": true,
      "toc_window_display": false
    },
    "colab": {
      "name": "assignment1.ipynb",
      "provenance": [],
      "collapsed_sections": [],
      "toc_visible": true,
      "include_colab_link": true
    }
  },
  "cells": [
    {
      "cell_type": "markdown",
      "metadata": {
        "id": "view-in-github",
        "colab_type": "text"
      },
      "source": [
        "<a href=\"https://colab.research.google.com/github/adeelshahrbc/adeelshahrbc.github.io/blob/master/assignment1.ipynb\" target=\"_parent\"><img src=\"https://colab.research.google.com/assets/colab-badge.svg\" alt=\"Open In Colab\"/></a>"
      ]
    },
    {
      "cell_type": "markdown",
      "metadata": {
        "id": "KgtFFt7ur7js",
        "colab_type": "text"
      },
      "source": [
        "Before you turn this assignment in, make sure everything runs as expected. \n",
        "\n",
        "You can either **restart the kernel** (in the menu bar, select Kernel $\\rightarrow$ Restart and Clear Output) and then **run all cells** (in the menu bar, select Cell $\\rightarrow$ Run All). \n",
        "Or, you can simply **clear the output for all cells** (in the menu bar, select Cell $\\rightarrow$ All Output $\\rightarrow$ Clear) and then **run all cells** (in the menu bar, select Cell $\\rightarrow$ Run All).\n",
        "\n",
        "---"
      ]
    },
    {
      "cell_type": "code",
      "metadata": {
        "id": "b193igZWr7jy",
        "colab_type": "code",
        "colab": {}
      },
      "source": [
        "NAME = \"SYED ADEEL AHMED SHAH\"\n",
        "COLLABORATORS = \"None\""
      ],
      "execution_count": 0,
      "outputs": []
    },
    {
      "cell_type": "markdown",
      "metadata": {
        "id": "_0I8yFjir7kF",
        "colab_type": "text"
      },
      "source": [
        "# Assignment 1 - Intro to Python\n",
        "\n",
        "(15 points)"
      ]
    },
    {
      "cell_type": "markdown",
      "metadata": {
        "id": "vlDVSX3Nr7kK",
        "colab_type": "text"
      },
      "source": [
        "## Learning Outcomes\n",
        "\n",
        "In this assignment you will practice:\n",
        "\n",
        "- Basic Python syntax\n",
        "- Writing simple Python functions\n",
        "- Working with strings and dictionaries"
      ]
    },
    {
      "cell_type": "markdown",
      "metadata": {
        "id": "K1qAf0l1r7kP",
        "colab_type": "text"
      },
      "source": [
        "## Question #1: Count symbols\n",
        "\n",
        "(3 points)"
      ]
    },
    {
      "cell_type": "markdown",
      "metadata": {
        "id": "_f3LDbKDr7kX",
        "colab_type": "text"
      },
      "source": [
        "In this question, you are given a string `s` which represents a DNA string. The string `s` consists of symbols `'A', 'C', 'G',` and `'T'`. An example of a length 21 DNA string is `\"ATGCTTCAGAAAGGTCTTACG.\"` \n",
        "\n",
        "Your task is to write a code which will count the number of times each of the symbols `'A', 'C', 'G'`, and `'T'` occur in `s`. Your code should generate a **list of 4 integers** and **print it out**."
      ]
    },
    {
      "cell_type": "code",
      "metadata": {
        "id": "NTC25N8Lr7kc",
        "colab_type": "code",
        "colab": {}
      },
      "source": [
        "# Here is the DNA string:\n",
        "\n",
        "s = 'AGCTTTTCATTCTGACTGCAACGGGCAATATGTCTCTGTGTGGATTAAAAAAAGAGTGTCTGATAGCAGC'"
      ],
      "execution_count": 0,
      "outputs": []
    },
    {
      "cell_type": "code",
      "metadata": {
        "id": "pcCwMgmyr7kn",
        "colab_type": "code",
        "outputId": "ee1a7ada-b54f-402f-b3fb-7632ca09f5fd",
        "colab": {
          "base_uri": "https://localhost:8080/",
          "height": 85
        }
      },
      "source": [
        "# Type your code here\n",
        "\n",
        "s = 'AGCTTTTCATTCTGACTGCAACGGGCAATATGTCTCTGTGTGGATTAAAAAAAGAGTGTCTGATAGCAGC'\n",
        "var_a=0\n",
        "var_c=0\n",
        "var_g=0\n",
        "var_t=0\n",
        "for char in s:\n",
        "  if char =='A':\n",
        "    var_a+=1\n",
        "  elif char =='C':\n",
        "    var_c+=1\n",
        "  elif char=='G':\n",
        "    var_g+=1\n",
        "  elif char=='T':\n",
        "    var_t+=1\n",
        "  else:\n",
        "    print(\"Incorrect input\")\n",
        "\n",
        "print(\"A =\", var_a)\n",
        "print(\"C =\", var_c)\n",
        "print(\"G =\", var_g)\n",
        "print(\"T =\", var_t)\n",
        "   "
      ],
      "execution_count": 0,
      "outputs": [
        {
          "output_type": "stream",
          "text": [
            "A = 20\n",
            "C = 12\n",
            "G = 17\n",
            "T = 21\n"
          ],
          "name": "stdout"
        }
      ]
    },
    {
      "cell_type": "markdown",
      "metadata": {
        "id": "mV6X_6lAr7k6",
        "colab_type": "text"
      },
      "source": [
        "## Question #2: Find a substring\n",
        "\n",
        "(4 points)"
      ]
    },
    {
      "cell_type": "markdown",
      "metadata": {
        "id": "6QQN136dr7k8",
        "colab_type": "text"
      },
      "source": [
        "You are given a dictionary of the US states and their capitals. The keys in the dictionary are states and the values are capital names.\n",
        "\n",
        "Write a code to return a **list of all capitals** that contain the name of a state in their name as a substring.\n",
        "\n",
        "**HINT:** For example, `Indianapolis` as a capital name and `Indiana` as a state name is one of the key/value pairs that your code would find. Your code should add `Indianapolis` to the list. After you found all capitals and added them to the list, print out the list."
      ]
    },
    {
      "cell_type": "code",
      "metadata": {
        "id": "4yZZi74Wr7lE",
        "colab_type": "code",
        "colab": {}
      },
      "source": [
        "# Run this cell to create a dictionary of states' capitals\n",
        "capitals={\n",
        "    'Alabama': 'Montgomery',\n",
        "    'Alaska': 'Juneau',\n",
        "    'Arizona':'Phoenix',\n",
        "    'Arkansas':'Little Rock',\n",
        "    'California': 'Sacramento',\n",
        "    'Colorado':'Denver',\n",
        "    'Connecticut':'Hartford',\n",
        "    'Delaware':'Dover',\n",
        "    'Florida': 'Tallahassee',\n",
        "    'Georgia': 'Atlanta',\n",
        "    'Hawaii': 'Honolulu',\n",
        "    'Idaho': 'Boise',\n",
        "    'Illinios': 'Springfield',\n",
        "    'Indiana': 'Indianapolis',\n",
        "    'Iowa': 'Des Monies',\n",
        "    'Kansas': 'Topeka',\n",
        "    'Kentucky': 'Frankfort',\n",
        "    'Louisiana': 'Baton Rouge',\n",
        "    'Maine': 'Augusta',\n",
        "    'Maryland': 'Annapolis',\n",
        "    'Massachusetts': 'Boston',\n",
        "    'Michigan': 'Lansing',\n",
        "    'Minnesota': 'St. Paul',\n",
        "    'Mississippi': 'Jackson',\n",
        "    'Missouri': 'Jefferson City',\n",
        "    'Montana': 'Helena',\n",
        "    'Nebraska': 'Lincoln',\n",
        "    'Neveda': 'Carson City',\n",
        "    'New Hampshire': 'Concord',\n",
        "    'New Jersey': 'Trenton',\n",
        "    'New Mexico': 'Santa Fe',\n",
        "    'New York': 'Albany',\n",
        "    'North Carolina': 'Raleigh',\n",
        "    'North Dakota': 'Bismarck',\n",
        "    'Ohio': 'Columbus',\n",
        "    'Oklahoma': 'Oklahoma City',\n",
        "    'Oregon': 'Salem',\n",
        "    'Pennsylvania': 'Harrisburg',\n",
        "    'Rhoda Island': 'Providence',\n",
        "    'South Carolina': 'Columbia',\n",
        "    'South Dakota': 'Pierre',\n",
        "    'Tennessee': 'Nashville',\n",
        "    'Texas': 'Austin',\n",
        "    'Utah': 'Salt Lake City',\n",
        "    'Vermont': 'Montpelier',\n",
        "    'Virginia': 'Richmond',\n",
        "    'Washington': 'Olympia',\n",
        "    'West Virginia': 'Charleston',\n",
        "    'Wisconsin': 'Madison',\n",
        "    'Wyoming': 'Cheyenne'  \n",
        "}\n",
        "capitals"
      ],
      "execution_count": 0,
      "outputs": []
    },
    {
      "cell_type": "code",
      "metadata": {
        "id": "0hRgPMUlr7lM",
        "colab_type": "code",
        "outputId": "9252b229-cf90-4564-eefb-7f910c380735",
        "colab": {
          "base_uri": "https://localhost:8080/",
          "height": 34
        }
      },
      "source": [
        "# Your code here\n",
        "\n",
        "capitals={\n",
        "    'Alabama': 'Montgomery',\n",
        "    'Alaska': 'Juneau',\n",
        "    'Arizona':'Phoenix',\n",
        "    'Arkansas':'Little Rock',\n",
        "    'California': 'Sacramento',\n",
        "    'Colorado':'Denver',\n",
        "    'Connecticut':'Hartford',\n",
        "    'Delaware':'Dover',\n",
        "    'Florida': 'Tallahassee',\n",
        "    'Georgia': 'Atlanta',\n",
        "    'Hawaii': 'Honolulu',\n",
        "    'Idaho': 'Boise',\n",
        "    'Illinios': 'Springfield',\n",
        "    'Indiana': 'Indianapolis',\n",
        "    'Iowa': 'Des Monies',\n",
        "    'Kansas': 'Topeka',\n",
        "    'Kentucky': 'Frankfort',\n",
        "    'Louisiana': 'Baton Rouge',\n",
        "    'Maine': 'Augusta',\n",
        "    'Maryland': 'Annapolis',\n",
        "    'Massachusetts': 'Boston',\n",
        "    'Michigan': 'Lansing',\n",
        "    'Minnesota': 'St. Paul',\n",
        "    'Mississippi': 'Jackson',\n",
        "    'Missouri': 'Jefferson City',\n",
        "    'Montana': 'Helena',\n",
        "    'Nebraska': 'Lincoln',\n",
        "    'Neveda': 'Carson City',\n",
        "    'New Hampshire': 'Concord',\n",
        "    'New Jersey': 'Trenton',\n",
        "    'New Mexico': 'Santa Fe',\n",
        "    'New York': 'Albany',\n",
        "    'North Carolina': 'Raleigh',\n",
        "    'North Dakota': 'Bismarck',\n",
        "    'Ohio': 'Columbus',\n",
        "    'Oklahoma': 'Oklahoma City',\n",
        "    'Oregon': 'Salem',\n",
        "    'Pennsylvania': 'Harrisburg',\n",
        "    'Rhoda Island': 'Providence',\n",
        "    'South Carolina': 'Columbia',\n",
        "    'South Dakota': 'Pierre',\n",
        "    'Tennessee': 'Nashville',\n",
        "    'Texas': 'Austin',\n",
        "    'Utah': 'Salt Lake City',\n",
        "    'Vermont': 'Montpelier',\n",
        "    'Virginia': 'Richmond',\n",
        "    'Washington': 'Olympia',\n",
        "    'West Virginia': 'Charleston',\n",
        "    'Wisconsin': 'Madison',\n",
        "    'Wyoming': 'Cheyenne'  \n",
        "}\n",
        "list =[]\n",
        "for x in capitals:\n",
        "  if x in capitals[x]:\n",
        "    list.append(capitals[x])\n",
        "  \n",
        "print(list)"
      ],
      "execution_count": 0,
      "outputs": [
        {
          "output_type": "stream",
          "text": [
            "['Indianapolis', 'Oklahoma City']\n"
          ],
          "name": "stdout"
        }
      ]
    },
    {
      "cell_type": "markdown",
      "metadata": {
        "id": "CPdqePaIr7lq",
        "colab_type": "text"
      },
      "source": [
        "## Question #3: Is a data point within a rectangle?\n",
        "\n",
        "(4 points)"
      ]
    },
    {
      "cell_type": "markdown",
      "metadata": {
        "id": "CYlVJR8gr7ls",
        "colab_type": "text"
      },
      "source": [
        "Write a function `isIn()` which returns **boolean `True`** if a point is within a rectangle specified by two sets of coordinates and **boolean `False`** if the point is outside the rectangle. The function should accept three parameters:\n",
        "- the first parameter is a set of coordinates which defines one of the corners of the rectangle, \n",
        "- the second parameter is also a set of coordinates that defines the second corner,\n",
        "- the third set of coordinates defines a single point which is being tested.\n",
        "\n",
        "For example, \n",
        "- `isIn((1,2), (3,4), (1.5, 3.2))` should return `True`, \n",
        "- `isIn((4,3.5), (2,1), (3, 2))` should return `True`, \n",
        "- `isIn((-1,0), (5,5), (6,0))` should return `False`,\n",
        "- `isIn((4,1), (2,4), (2.5,4.5))` should return `False`.\n",
        "\n",
        "Test your function with at least 2 different sets of data points in addition to the examples above.\n",
        "\n",
        "**NOTES:** \n",
        "1. If the point being tested is on the side of the rectangle, consider it to be within the rectangle. For example, if the rectangle is defined as `(1,2), (3,4)` and the point is `(2,2)`, the function should return `True`.\n",
        "2. In this assignment, we assume that the edges of the rectangle are parallel to coordinate axes.\n",
        "3. We also assume that the first parameter does not always represent the left corner of the rectangle and the second parameter is not always the right corner. The function should work correctly either way. Please note the second test condition above where the first parameter, `(4,3.5)`, represents the top-right corner and the second parameter, `(2,1)`, represents left-bottom corner. "
      ]
    },
    {
      "cell_type": "code",
      "metadata": {
        "id": "73GlgQh-r7lu",
        "colab_type": "code",
        "outputId": "d07dbc14-32bf-498e-8376-6004914fe3a7",
        "colab": {
          "base_uri": "https://localhost:8080/",
          "height": 140
        }
      },
      "source": [
        "def isIn(firstCorner=(0,0), secondCorner=(0,0), point=(0,0)):\n",
        "  x=0\n",
        "  l1=len(firstCorner)\n",
        "  l2=len(secondCorner)\n",
        "  l3=len(point)\n",
        "  l=l1+l2+l3\n",
        "  \n",
        "  if l!=6:  \n",
        "    print(\"Please check coordinates, they should be only 2\")\n",
        "    return False\n",
        "  fc=[]\n",
        "  sc=[]\n",
        "  while x < (l1-1):\n",
        "    fc.append(firstCorner[x])\n",
        "    #fc[x]=firstCorner[x]\n",
        "    fc.append(secondCorner[x])\n",
        "    sc.append(firstCorner[x+1])\n",
        "    sc.append(secondCorner[x+1])\n",
        "    x+=1\n",
        "\n",
        "  fc.sort() #Creating range of firstCorner from smaller to larger\n",
        "  sc.sort() #Creating range of secondCorner from smaller to larger\n",
        "\n",
        "  x=0\n",
        "\n",
        "  while x<(l1-1):\n",
        "    if point[x]>=fc[x] and point[x]<=fc[x+1]:\n",
        "      if point[x+1]>=sc[x] and point[x+1]<=sc[x+1]:\n",
        "        return True\n",
        "      else:\n",
        "        return False\n",
        "    else:\n",
        "      return False\n",
        "  x+=1\n",
        "\n",
        "print(isIn((1,2), (3,4), (1.5, 3.2))) #Required Test\n",
        "print(isIn((4,3.5), (2,1), (3, 2)))   #Required Test\n",
        "print(isIn((-1,0), (5,5), (6,0)))     #Required Test\n",
        "print(isIn((4,1), (2,4), (2.5,4.5)))  #Required Test\n",
        "print(isIn((9,0), (-2,-4), (4,5)))    #Additional Test\n",
        "print(isIn((100,200),(0,0),(99,99)))  #Additional Test\n",
        "print(isIn((1,2),(2,4),(1,2)))        #Additional Test"
      ],
      "execution_count": 4,
      "outputs": [
        {
          "output_type": "stream",
          "text": [
            "True\n",
            "True\n",
            "False\n",
            "False\n",
            "False\n",
            "True\n",
            "True\n"
          ],
          "name": "stdout"
        }
      ]
    },
    {
      "cell_type": "markdown",
      "metadata": {
        "id": "9eKCR05_r7md",
        "colab_type": "text"
      },
      "source": [
        "## Question #4: Are all points within a rectangle?\n",
        "\n",
        "(4 points)"
      ]
    },
    {
      "cell_type": "markdown",
      "metadata": {
        "id": "7a8QpOnQr7mj",
        "colab_type": "text"
      },
      "source": [
        "Modify your function from the previous question so it takes a list of points rather than a single point and returns **boolean `True`** only if all points in the list are in the rectangle.\n",
        "\n",
        "For example,\n",
        "\n",
        "- `allIn((0,0), (5,5), [(1,1), (0,0), (5,5)])` should return `True`\n",
        "- but `allIn((0,0), (5,5), [(1,1), (0,0), (5,6)])` should return `False`\n",
        "- empty list of points `allIn((0,0), (5,5), [])` should return `False`\n",
        "\n",
        "Use the same assumptions as above about the placement of the points and how rectangle is defined. Make sure that your function returns `False` for empty list of points (no values).\n",
        "\n",
        "Test your function with at least 3 different sets of data points."
      ]
    },
    {
      "cell_type": "code",
      "metadata": {
        "id": "w-hTXMn3unOZ",
        "colab_type": "code",
        "outputId": "14d1f08a-b720-44a0-cd3d-0a3f62d0e58d",
        "colab": {
          "base_uri": "https://localhost:8080/",
          "height": 87
        }
      },
      "source": [
        "def allIn(firstCorner=(0,0), secondCorner=(0,0), pointList=[]):\n",
        "  x=0\n",
        "  point=pointList\n",
        "  l1=len(firstCorner)\n",
        "  l2=len(secondCorner)\n",
        "  l3=len(point)\n",
        "  l=l1+l2\n",
        "  #print(l3)\n",
        "  if l3==0:\n",
        "    return False\n",
        "  if l!=4:\n",
        "    print(\"Please check coordinates for first & second corner, they should be only 2\")\n",
        "    return False\n",
        "  \n",
        "  fc=[]\n",
        "  sc=[]\n",
        "  \n",
        "  while x < (l1-1):\n",
        "    fc.append(firstCorner[x])\n",
        "    fc.append(secondCorner[x])\n",
        "    sc.append(firstCorner[x+1])\n",
        "    sc.append(secondCorner[x+1])\n",
        "    x+=1\n",
        "\n",
        "  fc.sort() #Creating range of firstCorner from smaller to larger\n",
        "  sc.sort() #Creating range of secondCorner from smaller to larger\n",
        "\n",
        "  x=0\n",
        "  y=0\n",
        "  z=0\n",
        "  all_valid=0\n",
        "\n",
        "  while z<l3:\n",
        "    #print(fc[x],\"<\",point[z][x],\"<\",sc[x])\n",
        "    if point[z][x]>=fc[x] and point[z][x]<=fc[x+1]:\n",
        "      #print(\"Inside first point\")\n",
        "      if point[z][x+1]>=sc[x] and point[z][x+1]<=sc[x+1]:\n",
        "      #  print(\"Inside second point\")\n",
        "        all_valid+=1\n",
        "    #print(z)\n",
        "    z+=1\n",
        " \n",
        "  return all_valid==len(point)\n",
        "  \n",
        "\n",
        "\n",
        "#print(allIn((0,0), (5,5), [(1,1), (0,0), (5,5)]))\n",
        "print(allIn((0,0), (5,5), [(1,2), (0,3), (5,5)]))\n",
        "print(allIn((0,0), (5,5), [(1,1), (0,0), (5,6)]))\n",
        "print(allIn((0,0), (5,5), []))\n",
        "print(allIn((0,0), (5,5), [(1,1), (0,0),(1,2),(0,3),(5,5)]))"
      ],
      "execution_count": 19,
      "outputs": [
        {
          "output_type": "stream",
          "text": [
            "True\n",
            "False\n",
            "False\n",
            "True\n"
          ],
          "name": "stdout"
        }
      ]
    }
  ]
}